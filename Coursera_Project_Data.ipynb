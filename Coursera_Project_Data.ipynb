{
 "cells": [
  {
   "cell_type": "code",
   "execution_count": 1,
   "metadata": {},
   "outputs": [
    {
     "name": "stdout",
     "output_type": "stream",
     "text": [
      "The geograpical coordinates of Varanasi are 25.3176, 82.9739.\n"
     ]
    }
   ],
   "source": [
    "VRS_LATITUDE = 25.3176\n",
    "VRS_LONGITUDE = 82.9739\n",
    "print('The geograpical coordinates of Varanasi are {}, {}.'.format(VRS_LATITUDE, VRS_LONGITUDE))"
   ]
  },
  {
   "cell_type": "code",
   "execution_count": 2,
   "metadata": {},
   "outputs": [],
   "source": [
    "FOURSQUARE_CLIENT_ID = 'GMUUC2GUMFOORGUE1X1RP5TDHGBFHG05QV0RBE5G3DIWIMVG'\n",
    "FOURSQUARE_CLIENT_SECRET = 'AKKTWEFY02L5UQCS0P2KKNHOLPQQT1AZWPQMIWSO0AMJ2EI0'\n",
    "RADIUS = 6000 # 4 Km\n",
    "NO_OF_VENUES = 100\n",
    "VERSION = '20190612' # Current date"
   ]
  },
  {
   "cell_type": "code",
   "execution_count": 3,
   "metadata": {},
   "outputs": [],
   "source": [
    "def get_category_type(row):\n",
    "    try:\n",
    "        categories_list = row['categories']\n",
    "    except:\n",
    "        categories_list = row['venue.categories']\n",
    "        \n",
    "    if len(categories_list) == 0:\n",
    "        return None\n",
    "    else:\n",
    "        return categories_list[0]['name']"
   ]
  },
  {
   "cell_type": "code",
   "execution_count": 4,
   "metadata": {},
   "outputs": [
    {
     "name": "stdout",
     "output_type": "stream",
     "text": [
      "Total 41 venues fetched within a total radius of 6.0 Km\n",
      "\n",
      "Total 41 venues fetched\n"
     ]
    }
   ],
   "source": [
    "import numpy as np\n",
    "import pandas as pd\n",
    "\n",
    "import matplotlib.pyplot as plt\n",
    "import matplotlib.cm as cm\n",
    "import matplotlib.colors as colors\n",
    "\n",
    "from pandas.io.json import json_normalize\n",
    "import requests\n",
    "\n",
    "pd.set_option('display.max_rows', None)\n",
    "\n",
    "offset = 0\n",
    "total_venues = 0\n",
    "foursquare_venues = pd.DataFrame(columns = ['name', 'categories', 'lat', 'lng'])\n",
    "\n",
    "while (True):\n",
    "    url = ('https://api.foursquare.com/v2/venues/explore?client_id={}'\n",
    "           '&client_secret={}&v={}&ll={},{}&radius={}&limit={}&offset={}').format(FOURSQUARE_CLIENT_ID, \n",
    "                                                                        FOURSQUARE_CLIENT_SECRET, \n",
    "                                                                        VERSION, \n",
    "                                                                        VRS_LATITUDE, \n",
    "                                                                        VRS_LONGITUDE,\n",
    "                                                                        RADIUS,\n",
    "                                                                        NO_OF_VENUES,\n",
    "                                                                        offset)\n",
    "    result = requests.get(url).json()\n",
    "    venues_fetched = len(result['response']['groups'][0]['items'])\n",
    "    total_venues = total_venues + venues_fetched\n",
    "    print(\"Total {} venues fetched within a total radius of {} Km\".format(venues_fetched, RADIUS/1000))\n",
    "\n",
    "    venues = result['response']['groups'][0]['items']\n",
    "    venues = json_normalize(venues)\n",
    "\n",
    "    # Filter the columns\n",
    "    filtered_columns = ['venue.name', 'venue.categories', 'venue.location.lat', 'venue.location.lng']\n",
    "    venues = venues.loc[:, filtered_columns]\n",
    "\n",
    "    # Filter the category for each row\n",
    "    venues['venue.categories'] = venues.apply(get_category_type, axis = 1)\n",
    "\n",
    "    # Clean all column names\n",
    "    venues.columns = [col.split(\".\")[-1] for col in venues.columns]\n",
    "    foursquare_venues = pd.concat([foursquare_venues, venues], axis = 0, sort = False)\n",
    "    \n",
    "    if (venues_fetched < 100):\n",
    "        break\n",
    "    else:\n",
    "        offset = offset + 100\n",
    "\n",
    "foursquare_venues = foursquare_venues.reset_index(drop = True)\n",
    "print(\"\\nTotal {} venues fetched\".format(total_venues))"
   ]
  },
  {
   "cell_type": "code",
   "execution_count": null,
   "metadata": {},
   "outputs": [
    {
     "name": "stdout",
     "output_type": "stream",
     "text": [
      "Fetching data for venue: 1\n"
     ]
    }
   ],
   "source": [
    "headers = {'user-key': 'b3a1c26ed20422bfaae7ada558744e1f'}\n",
    "venues_information = []\n",
    "\n",
    "for index, row in foursquare_venues.iterrows():\n",
    "    print(\"Fetching data for venue: {}\".format(index + 1))\n",
    "    venue = []\n",
    "    url = ('https://developers.zomato.com/api/v2.1/search?q={}' + \n",
    "          '&start=0&count=1&lat={}&lon={}&sort=real_distance').format(row['name'], row['lat'], row['lng'])\n",
    "    result = requests.get(url, headers = headers).json()\n",
    "    if (len(result['restaurants']) > 0):\n",
    "        venue.append(result['restaurants'][0]['restaurant']['name'])\n",
    "        venue.append(result['restaurants'][0]['restaurant']['location']['latitude'])\n",
    "        venue.append(result['restaurants'][0]['restaurant']['location']['longitude'])\n",
    "        venue.append(result['restaurants'][0]['restaurant']['average_cost_for_two'])\n",
    "        venue.append(result['restaurants'][0]['restaurant']['price_range'])\n",
    "        venue.append(result['restaurants'][0]['restaurant']['user_rating']['aggregate_rating'])\n",
    "        venue.append(result['restaurants'][0]['restaurant']['location']['address'])\n",
    "        venues_information.append(venue)\n",
    "    else:\n",
    "        venues_information.append(np.zeros(6))\n",
    "    \n",
    "zomato_venues = pd.DataFrame(venues_information, \n",
    "                                  columns = ['venue', 'latitude', \n",
    "                                             'longitude', 'price_for_two', \n",
    "                                             'price_range', 'rating', 'address'])"
   ]
  },
  {
   "cell_type": "code",
   "execution_count": null,
   "metadata": {},
   "outputs": [],
   "source": []
  }
 ],
 "metadata": {
  "kernelspec": {
   "display_name": "Python",
   "language": "python",
   "name": "conda-env-python-py"
  },
  "language_info": {
   "codemirror_mode": {
    "name": "ipython",
    "version": 3
   },
   "file_extension": ".py",
   "mimetype": "text/x-python",
   "name": "python",
   "nbconvert_exporter": "python",
   "pygments_lexer": "ipython3",
   "version": "3.6.7"
  }
 },
 "nbformat": 4,
 "nbformat_minor": 4
}
